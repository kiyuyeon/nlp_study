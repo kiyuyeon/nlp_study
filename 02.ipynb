{
 "cells": [
  {
   "cell_type": "code",
   "execution_count": 2,
   "metadata": {},
   "outputs": [
    {
     "name": "stdout",
     "output_type": "stream",
     "text": [
      "2.10.0\n"
     ]
    }
   ],
   "source": [
    "from tensorflow import keras\n",
    "import tensorflow as tf\n",
    "import numpy as np\n",
    "import sys\n",
    "import matplotlib.pyplot as plot\n",
    "\n",
    "print(tf.__version__)"
   ]
  },
  {
   "cell_type": "code",
   "execution_count": 9,
   "metadata": {},
   "outputs": [
    {
     "name": "stdout",
     "output_type": "stream",
     "text": [
      "Model: \"model_seqential\"\n",
      "_________________________________________________________________\n",
      " Layer (type)                Output Shape              Param #   \n",
      "=================================================================\n",
      " Hidden1 (Dense)             (None, 64)                704       \n",
      "                                                                 \n",
      " Dropout (Dropout)           (None, 64)                0         \n",
      "                                                                 \n",
      " Hidden2 (Dense)             (None, 32)                2080      \n",
      "                                                                 \n",
      " dense_3 (Dense)             (None, 10)                330       \n",
      "                                                                 \n",
      "=================================================================\n",
      "Total params: 3,114\n",
      "Trainable params: 3,114\n",
      "Non-trainable params: 0\n",
      "_________________________________________________________________\n"
     ]
    }
   ],
   "source": [
    "# node = 10개\n",
    "# hidden = 64개\n",
    "#10*64 +64 마지막 64는 bios\n",
    "# Sequential api\n",
    "model_seq = keras.Sequential(name = 'model_seqential')\n",
    "model_seq.add(keras.Input(shape=(10,),name='Inputlayer'))\n",
    "model_seq.add(keras.layers.Dense(64,'relu',name = 'Hidden1'))\n",
    "model_seq.add(keras.layers.Dropout(0.2,name=\"Dropout\"))\n",
    "model_seq.add(keras.layers.Dense(32,'relu',name='Hidden2'))\n",
    "model_seq.add(keras.layers.Dense(10,'softmax','output'))\n",
    "model_seq.summary()\n"
   ]
  },
  {
   "cell_type": "code",
   "execution_count": 12,
   "metadata": {},
   "outputs": [
    {
     "name": "stdout",
     "output_type": "stream",
     "text": [
      "Model: \"sequential_2\"\n",
      "_________________________________________________________________\n",
      " Layer (type)                Output Shape              Param #   \n",
      "=================================================================\n",
      " Hidden1 (Dense)             (None, 64)                704       \n",
      "                                                                 \n",
      " Dropout (Dropout)           (None, 64)                0         \n",
      "                                                                 \n",
      " Hidden2 (Dense)             (None, 32)                2080      \n",
      "                                                                 \n",
      " dense_6 (Dense)             (None, 10)                330       \n",
      "                                                                 \n",
      "=================================================================\n",
      "Total params: 3,114\n",
      "Trainable params: 3,114\n",
      "Non-trainable params: 0\n",
      "_________________________________________________________________\n"
     ]
    }
   ],
   "source": [
    "model_seq2 = keras.Sequential([\n",
    "    keras.Input(shape=(10,),name='Inputlayer'),\n",
    "    keras.layers.Dense(64,'relu',name = 'Hidden1'),\n",
    "    keras.layers.Dropout(0.2,name=\"Dropout\"),\n",
    "    keras.layers.Dense(32,'relu',name='Hidden2'),\n",
    "    keras.layers.Dense(10,'softmax','output')   \n",
    "])\n",
    "model_seq2.summary()"
   ]
  },
  {
   "cell_type": "code",
   "execution_count": 17,
   "metadata": {},
   "outputs": [
    {
     "name": "stdout",
     "output_type": "stream",
     "text": [
      "Model: \"Model_fun\"\n",
      "_________________________________________________________________\n",
      " Layer (type)                Output Shape              Param #   \n",
      "=================================================================\n",
      " Inputlayer (InputLayer)     [(None, 10)]              0         \n",
      "                                                                 \n",
      " hidden1 (Dense)             (None, 64)                704       \n",
      "                                                                 \n",
      " Dropout (Dropout)           (None, 64)                0         \n",
      "                                                                 \n",
      " hidden2 (Dense)             (None, 32)                2080      \n",
      "                                                                 \n",
      " output (Dense)              (None, 10)                330       \n",
      "                                                                 \n",
      "=================================================================\n",
      "Total params: 3,114\n",
      "Trainable params: 3,114\n",
      "Non-trainable params: 0\n",
      "_________________________________________________________________\n"
     ]
    }
   ],
   "source": [
    "## Functional Api\n",
    "inputs = keras.Input(shape = (10,),name='Inputlayer')\n",
    "hidden1 = keras.layers.Dense(64,'relu',name='hidden1')(inputs)\n",
    "drop_out = keras.layers.Dropout(0.2,name='Dropout')(hidden1)\n",
    "hidden2 = keras.layers.Dense(32,'relu',name='hidden2')(drop_out)\n",
    "outputs = keras.layers.Dense(10,'softmax',name='output')(hidden2)\n",
    "model_fun = keras.Model(inputs=inputs,outputs=outputs,name='Model_fun')\n",
    "\n",
    "model_fun.summary()"
   ]
  },
  {
   "cell_type": "code",
   "execution_count": 21,
   "metadata": {},
   "outputs": [
    {
     "name": "stdout",
     "output_type": "stream",
     "text": [
      "Model: \"Model_sub\"\n",
      "_________________________________________________________________\n",
      " Layer (type)                Output Shape              Param #   \n",
      "=================================================================\n",
      " relu (Dense)                multiple                  704       \n",
      "                                                                 \n",
      " dropout_3 (Dropout)         multiple                  0         \n",
      "                                                                 \n",
      " dense_11 (Dense)            multiple                  2080      \n",
      "                                                                 \n",
      " dense_12 (Dense)            multiple                  330       \n",
      "                                                                 \n",
      "=================================================================\n",
      "Total params: 3,114\n",
      "Trainable params: 3,114\n",
      "Non-trainable params: 0\n",
      "_________________________________________________________________\n"
     ]
    }
   ],
   "source": [
    "## Subclassing Api\n",
    "## pytorch랑 포맷이 같다\n",
    "## 빌드가 필요하다\n",
    "\n",
    "class Model_sub(keras.Model):\n",
    "    def __init__(self,hidden1,drop_rate,hidden2,outputs):\n",
    "        super(Model_sub,self).__init__(name='Model_sub')\n",
    "        self.hidden1 = keras.layers.Dense(hidden1,name = 'relu')\n",
    "        self.drop_out = keras.layers.Dropout(drop_rate)\n",
    "        self.hidden2 = keras.layers.Dense(hidden2,'relu')\n",
    "        self.outputs = keras.layers.Dense(outputs,'softmax')\n",
    "\n",
    "\n",
    "    def call(self,inputs):\n",
    "        x = self.hidden1(inputs)\n",
    "        x = self.drop_out(x)\n",
    "        x = self.hidden2(x)\n",
    "        x = self.outputs(x)\n",
    "\n",
    "        return x\n",
    "    \n",
    "\n",
    "mymodel_sub = Model_sub(64,0.2,32,10)\n",
    "\n",
    "mymodel_sub.build(input_shape=(1,10))\n",
    "mymodel_sub.summary()"
   ]
  },
  {
   "cell_type": "code",
   "execution_count": null,
   "metadata": {},
   "outputs": [],
   "source": [
    "class sub (keras.Model):\n",
    "    def __init__(self,hidden1,dropout_rate,hidden2,outputs):\n",
    "        super(Model_sub,self).__init__(name  = 'Model_sub')\n",
    "        self.hidden1 = keras.layers.Dense(hidden1,'relu')\n",
    "        self.drop_out = keras.layers.Dropout(dropout_rate)\n",
    "        self.hidden2 = keras.layers.Dense(hidden2,'relu')\n",
    "        self.outputs = keras.layers.Dense(outputs,'softmax')\n",
    "\n",
    "    def call(self,inputs):\n",
    "        x = self.hidden1(input)\n",
    "        x = self.drop_out(x)\n",
    "        x = self.hidden2(x)\n",
    "        x = self.output(x)\n",
    "\n",
    "        return x\n",
    "    "
   ]
  },
  {
   "cell_type": "code",
   "execution_count": 24,
   "metadata": {},
   "outputs": [
    {
     "data": {
      "text/plain": [
       "(768, 9)"
      ]
     },
     "execution_count": 24,
     "metadata": {},
     "output_type": "execute_result"
    }
   ],
   "source": [
    "dataset = np.loadtxt('./pima-indians-diabetes.csv',delimiter=',')\n",
    "dataset.shape"
   ]
  },
  {
   "cell_type": "code",
   "execution_count": 28,
   "metadata": {},
   "outputs": [
    {
     "name": "stdout",
     "output_type": "stream",
     "text": [
      "(768, 8) (768,)\n"
     ]
    }
   ],
   "source": [
    "x = dataset[:,:-1]\n",
    "y = dataset[:,-1]\n",
    "\n",
    "print(x.shape,y.shape)"
   ]
  },
  {
   "cell_type": "code",
   "execution_count": 49,
   "metadata": {},
   "outputs": [],
   "source": [
    "## Subclassing\n",
    "\n",
    "class DM(keras.Model):\n",
    "    def __init__(self,hidden1,drop_out,hidden2,outputs):\n",
    "        super(DM,self).__init__()\n",
    "        self.hidden1 = keras.layers.Dense(hidden1,'relu')\n",
    "        self.dropout = keras.layers.Dropout(drop_out)\n",
    "        self.hidden2 = keras.layers.Dense(hidden2,'relu')\n",
    "        self.outputs = keras.layers.Dense(outputs,'sigmoid')\n",
    "\n",
    "    def call(self,inputs):\n",
    "        x = self.hidden1(inputs)\n",
    "        x = self.dropout(x)\n",
    "        x = self.hidden2(x)\n",
    "        x = self.outputs(x) \n",
    "        \n",
    "        return x\n",
    "    \n",
    "dm_model = DM(64,0.2,32,1)"
   ]
  },
  {
   "cell_type": "code",
   "execution_count": null,
   "metadata": {},
   "outputs": [],
   "source": [
    "INPUT_SIZE = (1, 28, 28)\n",
    "\n",
    "input = tf.placeholder(tf.float32, shape = INPUT_SIZE)\n",
    "dropout = tf.keras.layers.Dropout(rate = 0.2)(input)\n",
    "conv = tf.keras.layers.Conv1D(\n",
    "         filters=10,\n",
    "         kernel_size=3,\n",
    "         padding='same',\n",
    "         activation=tf.nn.relu)(dropout)\n",
    "max_pool = tf.keras.layers.MaxPool1D(pool_size = 3, padding = 'same')(conv)\n",
    "flatten = tf.keras.layers.Flatten()(max_pool)\n",
    "hidden = tf.keras.layers.Dense(units = 50, activation = tf.nn.relu)(flatten)\n",
    "output = tf.keras.layers.Dense(units = 10, activation = tf.nn.softmax)(hidden)"
   ]
  },
  {
   "cell_type": "code",
   "execution_count": 62,
   "metadata": {},
   "outputs": [
    {
     "name": "stdout",
     "output_type": "stream",
     "text": [
      "OrderedDict([('너', 1), ('오늘', 3), ('이뻐', 1), ('보인다', 1), ('나는', 1), ('기분이', 1), ('더러워', 1), ('끝내주는데', 1), ('좋은', 2), ('일이', 2), ('있나봐', 1), ('나', 1), ('생겼어', 1), ('아', 1), ('진짜', 1), ('짜증나', 1), ('환상적인데', 1), ('정말', 1), ('좋은거', 1), ('같아', 1)])\n",
      "{'오늘': 1, '좋은': 2, '일이': 3, '너': 4, '이뻐': 5, '보인다': 6, '나는': 7, '기분이': 8, '더러워': 9, '끝내주는데': 10, '있나봐': 11, '나': 12, '생겼어': 13, '아': 14, '진짜': 15, '짜증나': 16, '환상적인데': 17, '정말': 18, '좋은거': 19, '같아': 20}\n"
     ]
    }
   ],
   "source": [
    "import tensorflow as tf\n",
    "from tensorflow.keras import preprocessing\n",
    "\n",
    "samples = ['너 오늘 이뻐 보인다', \n",
    "           '나는 오늘 기분이 더러워', \n",
    "           '끝내주는데, 좋은 일이 있나봐', \n",
    "           '나 좋은 일이 생겼어', \n",
    "           '아 오늘 진짜 짜증나', \n",
    "           '환상적인데, 정말 좋은거 같아']\n",
    "\n",
    "targets = np.array([[1], [0], [1], [1], [0], [1]])\n",
    "\n",
    "tokenizer = preprocessing.text.Tokenizer()\n",
    "tokenizer.fit_on_texts(samples)\n",
    "sequences = tokenizer.texts_to_sequences(samples)\n",
    "\n",
    "word_index = tokenizer.word_index\n",
    "\n",
    "\n",
    "print(tokenizer.word_counts)\n",
    "print(tokenizer.word_index)"
   ]
  },
  {
   "cell_type": "code",
   "execution_count": 59,
   "metadata": {},
   "outputs": [
    {
     "data": {
      "text/plain": [
       "[[4, 1, 5, 6],\n",
       " [7, 1, 8, 9],\n",
       " [10, 2, 3, 11],\n",
       " [12, 2, 3, 13],\n",
       " [14, 1, 15, 16],\n",
       " [17, 18, 19, 20]]"
      ]
     },
     "metadata": {},
     "output_type": "display_data"
    }
   ],
   "source": [
    "sequence=tokenizer.texts_to_sequences(samples)\n",
    "display(sequence)\n",
    "\n",
    "\n",
    "input_sequence = np.array(sequence)\n"
   ]
  },
  {
   "cell_type": "code",
   "execution_count": 67,
   "metadata": {},
   "outputs": [
    {
     "name": "stdout",
     "output_type": "stream",
     "text": [
      "Model: \"model\"\n",
      "_________________________________________________________________\n",
      " Layer (type)                Output Shape              Param #   \n",
      "=================================================================\n",
      " input_11 (InputLayer)       [(None, 4)]               0         \n",
      "                                                                 \n",
      " embedding_7 (Embedding)     (None, 4, 128)            2688      \n",
      "                                                                 \n",
      " tf.math.reduce_mean_3 (TFOp  (None, 128)              0         \n",
      " Lambda)                                                         \n",
      "                                                                 \n",
      " dense_45 (Dense)            (None, 156)               20124     \n",
      "                                                                 \n",
      " dense_46 (Dense)            (None, 1)                 157       \n",
      "                                                                 \n"
     ]
    },
    {
     "name": "stdout",
     "output_type": "stream",
     "text": [
      "=================================================================\n",
      "Total params: 22,969\n",
      "Trainable params: 22,969\n",
      "Non-trainable params: 0\n",
      "_________________________________________________________________\n"
     ]
    }
   ],
   "source": [
    "## 감성분석\n",
    "\n",
    "batch_size = 2\n",
    "num_epochs = 200\n",
    "word_index = tokenizer.word_index\n",
    "vocab_size = len(word_index)+ 1\n",
    "emb_size = 128\n",
    "hidden1 = 156\n",
    "hidden2 = 1\n",
    "\n",
    "# sentiment_model = keras.Sequential()\n",
    "# sentiment_model.add(keras.Input(4,))\n",
    "# sentiment_model.add(keras.layers.Embedding(vocab_size,emb_size))\n",
    "# sentiment_model.add(keras.layers.Lambda(lambda x: tf.reduce_mean(x,axis=1)))\n",
    "# sentiment_model.add(keras.layers.Dense(hidden1,'relu'))\n",
    "# sentiment_model.add(keras.layers.Dense(hidden2,'sigmoid'))\n",
    "\n",
    "inputs = keras.Input(shape=(4,))\n",
    "embdding_layer = keras.layers.Embedding(vocab_size,emb_size)(inputs)\n",
    "mean_emb = tf.reduce_mean(embdding_layer,axis = 1)\n",
    "dense1 = keras.layers.Dense(hidden1,'relu')(mean_emb)\n",
    "outputs = keras.layers.Dense(hidden2,'sigmoid')(dense1)\n",
    "sentiment_model_fun = keras.Model(inputs=inputs,outputs=outputs)\n",
    "\n",
    "# sentiment_model.summary()\n",
    "sentiment_model_fun.summary()\n"
   ]
  },
  {
   "cell_type": "code",
   "execution_count": 68,
   "metadata": {},
   "outputs": [],
   "source": [
    "# sentiment_model.compile(loss='binary_crossentropy',\n",
    "#                         optomizer='adam',\n",
    "#                         metrics = ['acc'])\n",
    "\n",
    "# sentiment_model.fit(input_sequence,targets,epochs=100,batch_size=batch_size,\n",
    "#                     validation_split=0.2)\n"
   ]
  },
  {
   "cell_type": "code",
   "execution_count": 75,
   "metadata": {},
   "outputs": [],
   "source": [
    "class Sentiment_sub(keras.Model):\n",
    "    def __init__(self,vocab_size,emb_size,hidden,outputs_node):\n",
    "        super(Sentiment_sub,self).__init__()\n",
    "        self.embedding = keras.layers.Embedding(vocab_size,emb_size)\n",
    "        self.dense = keras.layers.Dense(hidden,'relu')\n",
    "        self.outputs = keras.layers.Dense(outputs_node,'sigmoid')\n",
    "\n",
    "    def call(self,inputs):\n",
    "        x = self.embedding(x)\n",
    "        x = tf.reduce_mean(x,axis=1)\n",
    "        x = self.dense(x) \n",
    "        x = self.outputs(x)\n",
    "\n",
    "        return x\n",
    "    \n",
    "Sentiment_sub = Sentiment_sub(vocab_size,emb_size,156,1)\n",
    "\n",
    "\n"
   ]
  },
  {
   "cell_type": "code",
   "execution_count": 78,
   "metadata": {},
   "outputs": [
    {
     "name": "stdout",
     "output_type": "stream",
     "text": [
      "1.2.2\n"
     ]
    }
   ],
   "source": [
    "import sklearn\n",
    "\n",
    "print(sklearn.__version__)"
   ]
  },
  {
   "cell_type": "code",
   "execution_count": 102,
   "metadata": {},
   "outputs": [
    {
     "data": {
      "text/plain": [
       "dict_keys(['data', 'target', 'frame', 'target_names', 'DESCR', 'feature_names', 'filename', 'data_module'])"
      ]
     },
     "execution_count": 102,
     "metadata": {},
     "output_type": "execute_result"
    }
   ],
   "source": [
    "from sklearn import datasets\n",
    "import inspect\n",
    "import pandas as pd\n",
    "import matplotlib.pyplot as plt\n",
    "iris_dataset = sklearn.datasets.load_iris()\n",
    "\n",
    "type(iris_dataset)\n",
    "iris_dataset.keys()"
   ]
  },
  {
   "cell_type": "code",
   "execution_count": 92,
   "metadata": {},
   "outputs": [
    {
     "name": "stdout",
     "output_type": "stream",
     "text": [
      "[0 0 0 0 0 0 0 0 0 0 0 0 0 0 0 0 0 0 0 0 0 0 0 0 0 0 0 0 0 0 0 0 0 0 0 0 0\n",
      " 0 0 0 0 0 0 0 0 0 0 0 0 0 1 1 1 1 1 1 1 1 1 1 1 1 1 1 1 1 1 1 1 1 1 1 1 1\n",
      " 1 1 1 1 1 1 1 1 1 1 1 1 1 1 1 1 1 1 1 1 1 1 1 1 1 1 2 2 2 2 2 2 2 2 2 2 2\n",
      " 2 2 2 2 2 2 2 2 2 2 2 2 2 2 2 2 2 2 2 2 2 2 2 2 2 2 2 2 2 2 2 2 2 2 2 2 2\n",
      " 2 2]\n",
      "['setosa' 'versicolor' 'virginica']\n",
      "['sepal length (cm)', 'sepal width (cm)', 'petal length (cm)', 'petal width (cm)']\n"
     ]
    }
   ],
   "source": [
    "# print(iris_dataset['data'])\n",
    "print(iris_dataset['target'])\n",
    "print(iris_dataset['target_names'])\n",
    "print(iris_dataset['feature_names'])\n"
   ]
  },
  {
   "cell_type": "code",
   "execution_count": 100,
   "metadata": {},
   "outputs": [
    {
     "name": "stdout",
     "output_type": "stream",
     "text": [
      "<class 'numpy.ndarray'>\n"
     ]
    },
    {
     "data": {
      "text/html": [
       "<div>\n",
       "<style scoped>\n",
       "    .dataframe tbody tr th:only-of-type {\n",
       "        vertical-align: middle;\n",
       "    }\n",
       "\n",
       "    .dataframe tbody tr th {\n",
       "        vertical-align: top;\n",
       "    }\n",
       "\n",
       "    .dataframe thead th {\n",
       "        text-align: right;\n",
       "    }\n",
       "</style>\n",
       "<table border=\"1\" class=\"dataframe\">\n",
       "  <thead>\n",
       "    <tr style=\"text-align: right;\">\n",
       "      <th></th>\n",
       "      <th>sepal length</th>\n",
       "      <th>sepal width</th>\n",
       "      <th>petal length</th>\n",
       "      <th>petal width</th>\n",
       "      <th>class</th>\n",
       "    </tr>\n",
       "  </thead>\n",
       "  <tbody>\n",
       "    <tr>\n",
       "      <th>0</th>\n",
       "      <td>5.1</td>\n",
       "      <td>3.5</td>\n",
       "      <td>1.4</td>\n",
       "      <td>0.2</td>\n",
       "      <td>0</td>\n",
       "    </tr>\n",
       "    <tr>\n",
       "      <th>1</th>\n",
       "      <td>4.9</td>\n",
       "      <td>3.0</td>\n",
       "      <td>1.4</td>\n",
       "      <td>0.2</td>\n",
       "      <td>0</td>\n",
       "    </tr>\n",
       "    <tr>\n",
       "      <th>2</th>\n",
       "      <td>4.7</td>\n",
       "      <td>3.2</td>\n",
       "      <td>1.3</td>\n",
       "      <td>0.2</td>\n",
       "      <td>0</td>\n",
       "    </tr>\n",
       "    <tr>\n",
       "      <th>3</th>\n",
       "      <td>4.6</td>\n",
       "      <td>3.1</td>\n",
       "      <td>1.5</td>\n",
       "      <td>0.2</td>\n",
       "      <td>0</td>\n",
       "    </tr>\n",
       "    <tr>\n",
       "      <th>4</th>\n",
       "      <td>5.0</td>\n",
       "      <td>3.6</td>\n",
       "      <td>1.4</td>\n",
       "      <td>0.2</td>\n",
       "      <td>0</td>\n",
       "    </tr>\n",
       "  </tbody>\n",
       "</table>\n",
       "</div>"
      ],
      "text/plain": [
       "   sepal length  sepal width  petal length  petal width  class\n",
       "0           5.1          3.5           1.4          0.2      0\n",
       "1           4.9          3.0           1.4          0.2      0\n",
       "2           4.7          3.2           1.3          0.2      0\n",
       "3           4.6          3.1           1.5          0.2      0\n",
       "4           5.0          3.6           1.4          0.2      0"
      ]
     },
     "execution_count": 100,
     "metadata": {},
     "output_type": "execute_result"
    }
   ],
   "source": [
    "print(type(iris_dataset['data']))\n",
    "\n",
    "\n",
    "iris = pd.DataFrame(iris_dataset['data'])\n",
    "iris['target'] = iris_dataset['target']\n",
    "iris.columns = ['sepal length', 'sepal width', 'petal length', 'petal width','class']\n",
    "iris.head()"
   ]
  },
  {
   "cell_type": "code",
   "execution_count": 125,
   "metadata": {},
   "outputs": [
    {
     "name": "stdout",
     "output_type": "stream",
     "text": [
      "Index(['sepal length', 'sepal width', 'petal length', 'petal width', 'class'], dtype='object')\n"
     ]
    }
   ],
   "source": [
    "print(iris.columns)\n"
   ]
  },
  {
   "cell_type": "code",
   "execution_count": 128,
   "metadata": {},
   "outputs": [
    {
     "data": {
      "image/png": "[encoded data removed]",
      "text/plain": [
       "<Figure size 640x480 with 1 Axes>"
      ]
     },
     "metadata": {},
     "output_type": "display_data"
    }
   ],
   "source": [
    "setosa = iris[iris['class']==0]\n",
    "versicolor = iris[iris['class']==1]\n",
    "virginica = iris[iris['class']==2]\n",
    "\n",
    "# setosa.head()\n",
    "\n",
    "plt.scatter(setosa['sepal length'], setosa['sepal width'], marker='o', color='b', label='setosa')\n",
    "plt.scatter(versicolor['sepal length'], versicolor['sepal width'], marker='x', color='r', label='versicolor')\n",
    "plt.scatter(virginica['sepal length'], virginica['sepal width'], marker='^', color='g', label='virginica')\n",
    "\n",
    "plt.legend()\n",
    "plt.xlabel('sepal length')\n",
    "plt.ylabel('sepal width')\n",
    "plt.show()\n"
   ]
  },
  {
   "cell_type": "code",
   "execution_count": 120,
   "metadata": {},
   "outputs": [],
   "source": [
    "from sklearn.model_selection import train_test_split, GridSearchCV\n",
    "from sklearn.preprocessing import StandardScaler"
   ]
  },
  {
   "cell_type": "code",
   "execution_count": 121,
   "metadata": {},
   "outputs": [
    {
     "name": "stdout",
     "output_type": "stream",
     "text": [
      "(120, 4)\n",
      "<class 'numpy.ndarray'> <class 'numpy.ndarray'>\n"
     ]
    }
   ],
   "source": [
    "train_input,test_input,train_target,test_target = train_test_split(\n",
    "    iris_dataset['data'],iris_dataset['target'],\n",
    "    test_size=0.2\n",
    ")\n",
    "\n",
    "print(train_input.shape)\n",
    "print(type(train_input),type(train_target))"
   ]
  },
  {
   "cell_type": "code",
   "execution_count": 114,
   "metadata": {},
   "outputs": [],
   "source": [
    "ss = StandardScaler()\n",
    "ss.fit(train_input)\n",
    "\n",
    "train_scaled = ss.transform(train_input)\n",
    "test_scaled = ss.transform(test_input)\n"
   ]
  },
  {
   "cell_type": "code",
   "execution_count": 123,
   "metadata": {},
   "outputs": [],
   "source": [
    "from sklearn.neighbors import KNeighborsClassifier\n",
    "\n",
    "\n",
    "knn = KNeighborsClassifier(n_neighbors=6)"
   ]
  },
  {
   "cell_type": "code",
   "execution_count": 124,
   "metadata": {},
   "outputs": [
    {
     "name": "stdout",
     "output_type": "stream",
     "text": [
      "Fitting 5 folds for each of 9 candidates, totalling 45 fits\n",
      "{'n_neighbors': 2}\n",
      "0.45833333333333337\n"
     ]
    }
   ],
   "source": [
    "params_knn = {'n_neighbors':range(1,10)}\n",
    "gs_knn = GridSearchCV(estimator=knn,\n",
    "                      param_grid=params_knn,\n",
    "                      scoring='accuracy',cv=5,verbose=1)\n",
    "\n",
    "gs_knn.fit(train_scaled,train_target)\n",
    "\n",
    "print(gs_knn.best_params_)\n",
    "print(gs_knn.best_score_)\n"
   ]
  }
 ],
 "metadata": {
  "kernelspec": {
   "display_name": "py3.8",
   "language": "python",
   "name": "python3"
  },
  "language_info": {
   "codemirror_mode": {
    "name": "ipython",
    "version": 3
   },
   "file_extension": ".py",
   "mimetype": "text/x-python",
   "name": "python",
   "nbconvert_exporter": "python",
   "pygments_lexer": "ipython3",
   "version": "3.8.0"
  },
  "orig_nbformat": 4
 },
 "nbformat": 4,
 "nbformat_minor": 2
}
